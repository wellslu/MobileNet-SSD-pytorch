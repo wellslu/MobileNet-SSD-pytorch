{
 "cells": [
  {
   "cell_type": "markdown",
   "id": "3e85ef83",
   "metadata": {},
   "source": [
    "label form: 'XXX.jpg object_sum x1 y1 x2 y2 class\\n'"
   ]
  },
  {
   "cell_type": "code",
   "execution_count": 1,
   "id": "69c42b87",
   "metadata": {},
   "outputs": [],
   "source": [
    "import mlconfig\n",
    "import mlflow\n",
    "import numpy as np\n",
    "import torch\n",
    "\n",
    "import src\n",
    "\n",
    "\n",
    "def manual_seed(seed=0):\n",
    "    \"\"\"https://pytorch.org/docs/stable/notes/randomness.html\"\"\"\n",
    "    torch.manual_seed(seed)\n",
    "    np.random.seed(seed)\n",
    "\n",
    "config = mlconfig.load('configs/config.yaml')\n",
    "mlflow.log_artifact('configs/config.yaml')\n",
    "mlflow.log_params(config.flat())\n",
    "\n",
    "manual_seed()\n",
    "\n",
    "device = torch.device('cuda' if torch.cuda.is_available() else 'cpu')\n",
    "# model = config.model().to(device)\n",
    "model = torch.load('./model/last.pt')\n",
    "\n",
    "optimizer = config.optimizer(model.parameters())\n",
    "scheduler = config.scheduler(optimizer)\n",
    "\n",
    "criterion = config.criterion()\n",
    "\n",
    "train_loader = config.dataset(root='./data/train', list_file='./data/train.txt', train=True)\n",
    "\n",
    "test_loader = config.dataset(root='./data/test', list_file='./data/test.txt', train=True)\n",
    "\n",
    "trainer = config.trainer(device, model, criterion, optimizer, scheduler, train_loader, test_loader)\n",
    "\n",
    "trainer.fit()\n",
    "torch.save(model, './model/last.pt')"
   ]
  },
  {
   "cell_type": "code",
   "execution_count": null,
   "id": "8ec72f3e",
   "metadata": {},
   "outputs": [],
   "source": []
  },
  {
   "cell_type": "code",
   "execution_count": null,
   "id": "3b44f198",
   "metadata": {},
   "outputs": [],
   "source": [
    "from src.datasets.encoder import DataEncoder"
   ]
  },
  {
   "cell_type": "code",
   "execution_count": null,
   "id": "0d0cc5e1",
   "metadata": {},
   "outputs": [],
   "source": [
    "scale = 512\n",
    "aspect_ratios = [[2,], [2,3], [2,3], [2,3], [2,], [2,]]\n",
    "feature_map = [64, 32, 16, 8, 4, 2]\n",
    "sizes = [25, 50, 75, 100, 125, 150, 200]\n",
    "data_decoder = DataEncoder(scale, aspect_ratios, feature_map, sizes)"
   ]
  },
  {
   "cell_type": "code",
   "execution_count": null,
   "id": "26a0a443",
   "metadata": {},
   "outputs": [],
   "source": [
    "with torch.no_grad():\n",
    "    for x, loc_targets, conf_targets in tqdm(self.test_loader):\n",
    "        x = x.to(self.device)\n",
    "        loc_targets = loc_targets.to(self.device)\n",
    "        conf_targets = conf_targets.to(self.device)\n",
    "\n",
    "        loc_preds, conf_preds = self.model(x)\n",
    "        \n",
    "        data_decoder.decode(loc_preds, conf_preds)"
   ]
  },
  {
   "cell_type": "code",
   "execution_count": null,
   "id": "9f4e0385",
   "metadata": {},
   "outputs": [],
   "source": []
  },
  {
   "cell_type": "code",
   "execution_count": null,
   "id": "473d834d",
   "metadata": {},
   "outputs": [],
   "source": []
  }
 ],
 "metadata": {
  "kernelspec": {
   "display_name": "Python 3 (ipykernel)",
   "language": "python",
   "name": "python3"
  },
  "language_info": {
   "codemirror_mode": {
    "name": "ipython",
    "version": 3
   },
   "file_extension": ".py",
   "mimetype": "text/x-python",
   "name": "python",
   "nbconvert_exporter": "python",
   "pygments_lexer": "ipython3",
   "version": "3.9.12"
  }
 },
 "nbformat": 4,
 "nbformat_minor": 5
}
